{
  "nbformat": 4,
  "nbformat_minor": 0,
  "metadata": {
    "colab": {
      "provenance": []
    },
    "kernelspec": {
      "name": "python3",
      "display_name": "Python 3"
    },
    "language_info": {
      "name": "python"
    }
  },
  "cells": [
    {
      "cell_type": "markdown",
      "source": [
        "# Welcome to `mlir-python-utils` enjoy your stay!\n",
        "\n",
        "more at https://github.com/makslevental/mlir-python-utils"
      ],
      "metadata": {
        "id": "MVpw-wdNOFv0"
      }
    },
    {
      "cell_type": "code",
      "execution_count": null,
      "metadata": {
        "id": "TkecIbIHIsdf"
      },
      "outputs": [],
      "source": [
        "!pip install mlir-python-utils[mlir] -f https://makslevental.github.io/wheels/ &> /dev/null"
      ]
    },
    {
      "cell_type": "code",
      "source": [
        "!configure-mlir-python-utils -y mlir &> /dev/null"
      ],
      "metadata": {
        "id": "c-0-uVEUIve2"
      },
      "execution_count": null,
      "outputs": []
    },
    {
      "cell_type": "markdown",
      "source": [
        "# \"Boiler plate\""
      ],
      "metadata": {
        "id": "3emhocrkONpT"
      }
    },
    {
      "cell_type": "code",
      "source": [
        "import numpy as np\n",
        "\n",
        "import mlir_utils.types as T\n",
        "from mlir_utils.ast.canonicalize import canonicalize\n",
        "from mlir_utils.context import MLIRContext, mlir_mod_ctx\n",
        "from mlir_utils.dialects.ext.arith import constant\n",
        "from mlir_utils.dialects.ext.memref import load, store, S\n",
        "from mlir_utils.dialects.ext.func import func\n",
        "from mlir_utils.dialects.ext.scf import canonicalizer as scf, range_ as range\n",
        "from mlir_utils.runtime.passes import Pipeline, run_pipeline\n",
        "from mlir_utils.runtime.refbackend import LLVMJITBackend\n",
        "\n",
        "# you need this to register the memref value caster\n",
        "# noinspection PyUnresolvedReferences\n",
        "import mlir_utils.dialects.ext.memref\n",
        "\n",
        "ctx_man = mlir_mod_ctx()\n",
        "ctx = ctx_man.__enter__()\n",
        "backend = LLVMJITBackend()"
      ],
      "metadata": {
        "id": "xcvBjofzI8m-"
      },
      "execution_count": null,
      "outputs": []
    },
    {
      "cell_type": "markdown",
      "source": [
        "# MWE"
      ],
      "metadata": {
        "id": "9ijSKRNSOQ9D"
      }
    },
    {
      "cell_type": "code",
      "source": [
        "K = 10\n",
        "memref_i64 = T.memref(K, K, T.i64)\n",
        "\n",
        "@func\n",
        "@canonicalize(using=scf)\n",
        "def memfoo(A: memref_i64, B: memref_i64, C: memref_i64):\n",
        "    one = constant(1)\n",
        "    two = constant(2)\n",
        "    if one > two:\n",
        "        C[0, 0] = constant(3, T.i64)\n",
        "    else:\n",
        "        for i in range(0, K):\n",
        "            for j in range(0, K):\n",
        "                C[i, j] = A[i, j] * B[i, j]"
      ],
      "metadata": {
        "id": "2bJ1wqMPNshV"
      },
      "execution_count": null,
      "outputs": []
    },
    {
      "cell_type": "markdown",
      "source": [
        "## `func`, `memref`, `scf`, and `arith` dialects"
      ],
      "metadata": {
        "id": "xJDEigigOY09"
      }
    },
    {
      "cell_type": "code",
      "source": [
        "memfoo.emit()\n",
        "run_pipeline(ctx.module, Pipeline().cse())\n",
        "print(ctx.module)"
      ],
      "metadata": {
        "colab": {
          "base_uri": "https://localhost:8080/"
        },
        "id": "zBDx-j9RN3XX",
        "outputId": "913b8bec-270b-4db0-f78e-650327678524"
      },
      "execution_count": null,
      "outputs": [
        {
          "output_type": "stream",
          "name": "stdout",
          "text": [
            "module {\n",
            "  func.func @memfoo(%arg0: memref<10x10xi64>, %arg1: memref<10x10xi64>, %arg2: memref<10x10xi64>) {\n",
            "    %c1_i32 = arith.constant 1 : i32\n",
            "    %c2_i32 = arith.constant 2 : i32\n",
            "    %0 = arith.cmpi ugt, %c1_i32, %c2_i32 : i32\n",
            "    scf.if %0 {\n",
            "      %c3_i64 = arith.constant 3 : i64\n",
            "      %c0 = arith.constant 0 : index\n",
            "      memref.store %c3_i64, %arg2[%c0, %c0] : memref<10x10xi64>\n",
            "    } else {\n",
            "      %c0 = arith.constant 0 : index\n",
            "      %c10 = arith.constant 10 : index\n",
            "      %c1 = arith.constant 1 : index\n",
            "      scf.for %arg3 = %c0 to %c10 step %c1 {\n",
            "        scf.for %arg4 = %c0 to %c10 step %c1 {\n",
            "          %1 = memref.load %arg0[%arg3, %arg4] : memref<10x10xi64>\n",
            "          %2 = memref.load %arg1[%arg3, %arg4] : memref<10x10xi64>\n",
            "          %3 = arith.muli %1, %2 : i64\n",
            "          memref.store %3, %arg2[%arg3, %arg4] : memref<10x10xi64>\n",
            "        }\n",
            "      }\n",
            "    }\n",
            "    return\n",
            "  }\n",
            "}\n",
            "\n"
          ]
        }
      ]
    },
    {
      "cell_type": "markdown",
      "source": [
        "## Lower to `llvm` dialect"
      ],
      "metadata": {
        "id": "_P-E1f2aOm6y"
      }
    },
    {
      "cell_type": "code",
      "source": [
        "module = backend.compile(\n",
        "    ctx.module,\n",
        "    kernel_name=memfoo.__name__,\n",
        "    pipeline=Pipeline().bufferize().lower_to_llvm(),\n",
        ")\n",
        "print(module)"
      ],
      "metadata": {
        "colab": {
          "base_uri": "https://localhost:8080/"
        },
        "id": "dlbMF12mN5N0",
        "outputId": "90262ae0-77d8-4ee1-d436-d1209c24ec85"
      },
      "execution_count": null,
      "outputs": [
        {
          "output_type": "stream",
          "name": "stdout",
          "text": [
            "module attributes {llvm.data_layout = \"\"} {\n",
            "  llvm.func @memfoo(%arg0: !llvm.ptr, %arg1: !llvm.ptr, %arg2: i64, %arg3: i64, %arg4: i64, %arg5: i64, %arg6: i64, %arg7: !llvm.ptr, %arg8: !llvm.ptr, %arg9: i64, %arg10: i64, %arg11: i64, %arg12: i64, %arg13: i64, %arg14: !llvm.ptr, %arg15: !llvm.ptr, %arg16: i64, %arg17: i64, %arg18: i64, %arg19: i64, %arg20: i64) attributes {llvm.emit_c_interface} {\n",
            "    %0 = llvm.mlir.constant(3 : i64) : i64\n",
            "    %1 = llvm.mlir.constant(0 : index) : i64\n",
            "    %2 = llvm.mlir.constant(10 : index) : i64\n",
            "    %3 = llvm.mlir.constant(1 : index) : i64\n",
            "    %4 = llvm.mlir.constant(false) : i1\n",
            "    llvm.cond_br %4, ^bb1, ^bb2\n",
            "  ^bb1:  // pred: ^bb0\n",
            "    %5 = llvm.mul %1, %2  : i64\n",
            "    %6 = llvm.add %5, %1  : i64\n",
            "    %7 = llvm.getelementptr %arg15[%6] : (!llvm.ptr, i64) -> !llvm.ptr, i64\n",
            "    llvm.store %0, %7 : i64, !llvm.ptr\n",
            "    llvm.br ^bb9\n",
            "  ^bb2:  // pred: ^bb0\n",
            "    llvm.br ^bb3(%1 : i64)\n",
            "  ^bb3(%8: i64):  // 2 preds: ^bb2, ^bb7\n",
            "    %9 = llvm.icmp \"slt\" %8, %2 : i64\n",
            "    llvm.cond_br %9, ^bb4, ^bb8\n",
            "  ^bb4:  // pred: ^bb3\n",
            "    llvm.br ^bb5(%1 : i64)\n",
            "  ^bb5(%10: i64):  // 2 preds: ^bb4, ^bb6\n",
            "    %11 = llvm.icmp \"slt\" %10, %2 : i64\n",
            "    llvm.cond_br %11, ^bb6, ^bb7\n",
            "  ^bb6:  // pred: ^bb5\n",
            "    %12 = llvm.mul %8, %2  : i64\n",
            "    %13 = llvm.add %12, %10  : i64\n",
            "    %14 = llvm.getelementptr %arg1[%13] : (!llvm.ptr, i64) -> !llvm.ptr, i64\n",
            "    %15 = llvm.load %14 : !llvm.ptr -> i64\n",
            "    %16 = llvm.getelementptr %arg8[%13] : (!llvm.ptr, i64) -> !llvm.ptr, i64\n",
            "    %17 = llvm.load %16 : !llvm.ptr -> i64\n",
            "    %18 = llvm.mul %15, %17  : i64\n",
            "    %19 = llvm.getelementptr %arg15[%13] : (!llvm.ptr, i64) -> !llvm.ptr, i64\n",
            "    llvm.store %18, %19 : i64, !llvm.ptr\n",
            "    %20 = llvm.add %10, %3  : i64\n",
            "    llvm.br ^bb5(%20 : i64)\n",
            "  ^bb7:  // pred: ^bb5\n",
            "    %21 = llvm.add %8, %3  : i64\n",
            "    llvm.br ^bb3(%21 : i64)\n",
            "  ^bb8:  // pred: ^bb3\n",
            "    llvm.br ^bb9\n",
            "  ^bb9:  // 2 preds: ^bb1, ^bb8\n",
            "    llvm.return\n",
            "  }\n",
            "  llvm.func @_mlir_ciface_memfoo(%arg0: !llvm.ptr, %arg1: !llvm.ptr, %arg2: !llvm.ptr) attributes {llvm.emit_c_interface} {\n",
            "    %0 = llvm.load %arg0 : !llvm.ptr -> !llvm.struct<(ptr, ptr, i64, array<2 x i64>, array<2 x i64>)>\n",
            "    %1 = llvm.extractvalue %0[0] : !llvm.struct<(ptr, ptr, i64, array<2 x i64>, array<2 x i64>)> \n",
            "    %2 = llvm.extractvalue %0[1] : !llvm.struct<(ptr, ptr, i64, array<2 x i64>, array<2 x i64>)> \n",
            "    %3 = llvm.extractvalue %0[2] : !llvm.struct<(ptr, ptr, i64, array<2 x i64>, array<2 x i64>)> \n",
            "    %4 = llvm.extractvalue %0[3, 0] : !llvm.struct<(ptr, ptr, i64, array<2 x i64>, array<2 x i64>)> \n",
            "    %5 = llvm.extractvalue %0[3, 1] : !llvm.struct<(ptr, ptr, i64, array<2 x i64>, array<2 x i64>)> \n",
            "    %6 = llvm.extractvalue %0[4, 0] : !llvm.struct<(ptr, ptr, i64, array<2 x i64>, array<2 x i64>)> \n",
            "    %7 = llvm.extractvalue %0[4, 1] : !llvm.struct<(ptr, ptr, i64, array<2 x i64>, array<2 x i64>)> \n",
            "    %8 = llvm.load %arg1 : !llvm.ptr -> !llvm.struct<(ptr, ptr, i64, array<2 x i64>, array<2 x i64>)>\n",
            "    %9 = llvm.extractvalue %8[0] : !llvm.struct<(ptr, ptr, i64, array<2 x i64>, array<2 x i64>)> \n",
            "    %10 = llvm.extractvalue %8[1] : !llvm.struct<(ptr, ptr, i64, array<2 x i64>, array<2 x i64>)> \n",
            "    %11 = llvm.extractvalue %8[2] : !llvm.struct<(ptr, ptr, i64, array<2 x i64>, array<2 x i64>)> \n",
            "    %12 = llvm.extractvalue %8[3, 0] : !llvm.struct<(ptr, ptr, i64, array<2 x i64>, array<2 x i64>)> \n",
            "    %13 = llvm.extractvalue %8[3, 1] : !llvm.struct<(ptr, ptr, i64, array<2 x i64>, array<2 x i64>)> \n",
            "    %14 = llvm.extractvalue %8[4, 0] : !llvm.struct<(ptr, ptr, i64, array<2 x i64>, array<2 x i64>)> \n",
            "    %15 = llvm.extractvalue %8[4, 1] : !llvm.struct<(ptr, ptr, i64, array<2 x i64>, array<2 x i64>)> \n",
            "    %16 = llvm.load %arg2 : !llvm.ptr -> !llvm.struct<(ptr, ptr, i64, array<2 x i64>, array<2 x i64>)>\n",
            "    %17 = llvm.extractvalue %16[0] : !llvm.struct<(ptr, ptr, i64, array<2 x i64>, array<2 x i64>)> \n",
            "    %18 = llvm.extractvalue %16[1] : !llvm.struct<(ptr, ptr, i64, array<2 x i64>, array<2 x i64>)> \n",
            "    %19 = llvm.extractvalue %16[2] : !llvm.struct<(ptr, ptr, i64, array<2 x i64>, array<2 x i64>)> \n",
            "    %20 = llvm.extractvalue %16[3, 0] : !llvm.struct<(ptr, ptr, i64, array<2 x i64>, array<2 x i64>)> \n",
            "    %21 = llvm.extractvalue %16[3, 1] : !llvm.struct<(ptr, ptr, i64, array<2 x i64>, array<2 x i64>)> \n",
            "    %22 = llvm.extractvalue %16[4, 0] : !llvm.struct<(ptr, ptr, i64, array<2 x i64>, array<2 x i64>)> \n",
            "    %23 = llvm.extractvalue %16[4, 1] : !llvm.struct<(ptr, ptr, i64, array<2 x i64>, array<2 x i64>)> \n",
            "    llvm.call @memfoo(%1, %2, %3, %4, %5, %6, %7, %9, %10, %11, %12, %13, %14, %15, %17, %18, %19, %20, %21, %22, %23) : (!llvm.ptr, !llvm.ptr, i64, i64, i64, i64, i64, !llvm.ptr, !llvm.ptr, i64, i64, i64, i64, i64, !llvm.ptr, !llvm.ptr, i64, i64, i64, i64, i64) -> ()\n",
            "    llvm.return\n",
            "  }\n",
            "  llvm.func private @memfoo_return_consumer() attributes {llvm.emit_c_interface, refbackend_consume_return_callback, sym_visibility = \"private\"} {\n",
            "    llvm.call @_mlir_ciface_memfoo_return_consumer() : () -> ()\n",
            "    llvm.return\n",
            "  }\n",
            "  llvm.func @_mlir_ciface_memfoo_return_consumer() attributes {llvm.emit_c_interface, refbackend_consume_return_callback, sym_visibility = \"private\"}\n",
            "  llvm.func @memfoo_capi_wrapper(%arg0: !llvm.ptr, %arg1: !llvm.ptr, %arg2: i64, %arg3: i64, %arg4: i64, %arg5: i64, %arg6: i64, %arg7: !llvm.ptr, %arg8: !llvm.ptr, %arg9: i64, %arg10: i64, %arg11: i64, %arg12: i64, %arg13: i64, %arg14: !llvm.ptr, %arg15: !llvm.ptr, %arg16: i64, %arg17: i64, %arg18: i64, %arg19: i64, %arg20: i64) attributes {llvm.emit_c_interface} {\n",
            "    llvm.call @memfoo(%arg0, %arg1, %arg2, %arg3, %arg4, %arg5, %arg6, %arg7, %arg8, %arg9, %arg10, %arg11, %arg12, %arg13, %arg14, %arg15, %arg16, %arg17, %arg18, %arg19, %arg20) : (!llvm.ptr, !llvm.ptr, i64, i64, i64, i64, i64, !llvm.ptr, !llvm.ptr, i64, i64, i64, i64, i64, !llvm.ptr, !llvm.ptr, i64, i64, i64, i64, i64) -> ()\n",
            "    llvm.call @memfoo_return_consumer() : () -> ()\n",
            "    llvm.return\n",
            "  }\n",
            "  llvm.func @_mlir_ciface_memfoo_capi_wrapper(%arg0: !llvm.ptr, %arg1: !llvm.ptr, %arg2: !llvm.ptr) attributes {llvm.emit_c_interface} {\n",
            "    %0 = llvm.load %arg0 : !llvm.ptr -> !llvm.struct<(ptr, ptr, i64, array<2 x i64>, array<2 x i64>)>\n",
            "    %1 = llvm.extractvalue %0[0] : !llvm.struct<(ptr, ptr, i64, array<2 x i64>, array<2 x i64>)> \n",
            "    %2 = llvm.extractvalue %0[1] : !llvm.struct<(ptr, ptr, i64, array<2 x i64>, array<2 x i64>)> \n",
            "    %3 = llvm.extractvalue %0[2] : !llvm.struct<(ptr, ptr, i64, array<2 x i64>, array<2 x i64>)> \n",
            "    %4 = llvm.extractvalue %0[3, 0] : !llvm.struct<(ptr, ptr, i64, array<2 x i64>, array<2 x i64>)> \n",
            "    %5 = llvm.extractvalue %0[3, 1] : !llvm.struct<(ptr, ptr, i64, array<2 x i64>, array<2 x i64>)> \n",
            "    %6 = llvm.extractvalue %0[4, 0] : !llvm.struct<(ptr, ptr, i64, array<2 x i64>, array<2 x i64>)> \n",
            "    %7 = llvm.extractvalue %0[4, 1] : !llvm.struct<(ptr, ptr, i64, array<2 x i64>, array<2 x i64>)> \n",
            "    %8 = llvm.load %arg1 : !llvm.ptr -> !llvm.struct<(ptr, ptr, i64, array<2 x i64>, array<2 x i64>)>\n",
            "    %9 = llvm.extractvalue %8[0] : !llvm.struct<(ptr, ptr, i64, array<2 x i64>, array<2 x i64>)> \n",
            "    %10 = llvm.extractvalue %8[1] : !llvm.struct<(ptr, ptr, i64, array<2 x i64>, array<2 x i64>)> \n",
            "    %11 = llvm.extractvalue %8[2] : !llvm.struct<(ptr, ptr, i64, array<2 x i64>, array<2 x i64>)> \n",
            "    %12 = llvm.extractvalue %8[3, 0] : !llvm.struct<(ptr, ptr, i64, array<2 x i64>, array<2 x i64>)> \n",
            "    %13 = llvm.extractvalue %8[3, 1] : !llvm.struct<(ptr, ptr, i64, array<2 x i64>, array<2 x i64>)> \n",
            "    %14 = llvm.extractvalue %8[4, 0] : !llvm.struct<(ptr, ptr, i64, array<2 x i64>, array<2 x i64>)> \n",
            "    %15 = llvm.extractvalue %8[4, 1] : !llvm.struct<(ptr, ptr, i64, array<2 x i64>, array<2 x i64>)> \n",
            "    %16 = llvm.load %arg2 : !llvm.ptr -> !llvm.struct<(ptr, ptr, i64, array<2 x i64>, array<2 x i64>)>\n",
            "    %17 = llvm.extractvalue %16[0] : !llvm.struct<(ptr, ptr, i64, array<2 x i64>, array<2 x i64>)> \n",
            "    %18 = llvm.extractvalue %16[1] : !llvm.struct<(ptr, ptr, i64, array<2 x i64>, array<2 x i64>)> \n",
            "    %19 = llvm.extractvalue %16[2] : !llvm.struct<(ptr, ptr, i64, array<2 x i64>, array<2 x i64>)> \n",
            "    %20 = llvm.extractvalue %16[3, 0] : !llvm.struct<(ptr, ptr, i64, array<2 x i64>, array<2 x i64>)> \n",
            "    %21 = llvm.extractvalue %16[3, 1] : !llvm.struct<(ptr, ptr, i64, array<2 x i64>, array<2 x i64>)> \n",
            "    %22 = llvm.extractvalue %16[4, 0] : !llvm.struct<(ptr, ptr, i64, array<2 x i64>, array<2 x i64>)> \n",
            "    %23 = llvm.extractvalue %16[4, 1] : !llvm.struct<(ptr, ptr, i64, array<2 x i64>, array<2 x i64>)> \n",
            "    llvm.call @memfoo_capi_wrapper(%1, %2, %3, %4, %5, %6, %7, %9, %10, %11, %12, %13, %14, %15, %17, %18, %19, %20, %21, %22, %23) : (!llvm.ptr, !llvm.ptr, i64, i64, i64, i64, i64, !llvm.ptr, !llvm.ptr, i64, i64, i64, i64, i64, !llvm.ptr, !llvm.ptr, i64, i64, i64, i64, i64) -> ()\n",
            "    llvm.return\n",
            "  }\n",
            "}\n",
            "\n"
          ]
        }
      ]
    },
    {
      "cell_type": "markdown",
      "source": [
        "## Run"
      ],
      "metadata": {
        "id": "Dc-HjIzhO6a9"
      }
    },
    {
      "cell_type": "code",
      "source": [
        "A = np.random.randint(0, 10, (K, K)).astype(np.int64)\n",
        "B = np.random.randint(0, 10, (K, K)).astype(np.int64)\n",
        "C = np.zeros((K, K), dtype=np.int64)\n",
        "backend.load(module).memfoo(A, B, C)"
      ],
      "metadata": {
        "id": "ZKTUiSksN8vM"
      },
      "execution_count": null,
      "outputs": []
    },
    {
      "cell_type": "markdown",
      "source": [
        "## Check the results"
      ],
      "metadata": {
        "id": "TtdESiwEPDjt"
      }
    },
    {
      "cell_type": "code",
      "source": [
        "print(C)\n",
        "assert np.array_equal(A * B, C)"
      ],
      "metadata": {
        "colab": {
          "base_uri": "https://localhost:8080/"
        },
        "id": "3gj7xvY9OCpB",
        "outputId": "eadbf595-8bad-4246-d265-56d0051ffa85"
      },
      "execution_count": null,
      "outputs": [
        {
          "output_type": "stream",
          "name": "stdout",
          "text": [
            "[[ 9  8  7 81  0  0 48  0 12 40]\n",
            " [ 5 16  0  0 27 32 48 64 30 15]\n",
            " [16  0 36  4  0 63 12  8 18 42]\n",
            " [ 9 24  2 18  4  0 21  0 12 36]\n",
            " [15 27 18 18  0  6 45 45 28 24]\n",
            " [30 49  3  9  9  6  0 72  0 15]\n",
            " [ 0 30 49 15  0  0 28 64 14 15]\n",
            " [ 8  8 63 64  0  0 10  4 28  5]\n",
            " [ 9  4  5  5 14  0  0 24  9 48]\n",
            " [21  5 45  0 30 54 49 49 10 36]]\n"
          ]
        }
      ]
    },
    {
      "cell_type": "markdown",
      "source": [
        "## Clean up after yourself"
      ],
      "metadata": {
        "id": "Ywu5wuvxUVe-"
      }
    },
    {
      "cell_type": "code",
      "source": [
        "ctx_man.__exit__(None, None, None);"
      ],
      "metadata": {
        "id": "lB_vHZcvUYVI"
      },
      "execution_count": null,
      "outputs": []
    },
    {
      "cell_type": "markdown",
      "source": [
        "# Slightly more complicated example"
      ],
      "metadata": {
        "id": "UP9QlXHBQwEn"
      }
    },
    {
      "cell_type": "code",
      "source": [
        "ctx_man = mlir_mod_ctx()\n",
        "ctx = ctx_man.__enter__()\n",
        "\n",
        "K = 256\n",
        "D = 32\n",
        "\n",
        "F = K // D\n",
        "ranked_memref_kxk_f32 = T.memref(K, K, T.f32)\n",
        "ranked_memref_dxd_f32 = T.memref(D, D, T.f32, layout=((K, 1), S))\n",
        "\n",
        "@func\n",
        "@canonicalize(using=scf)\n",
        "def tile(\n",
        "    A: ranked_memref_dxd_f32, B: ranked_memref_dxd_f32, C: ranked_memref_dxd_f32\n",
        "):\n",
        "    for i in range(0, D):\n",
        "        for j in range(0, D):\n",
        "            C[i, j] = A[i, j] + B[i, j]\n",
        "\n",
        "@func\n",
        "@canonicalize(using=scf)\n",
        "def tiled_memfoo(\n",
        "    A: ranked_memref_kxk_f32, B: ranked_memref_kxk_f32, C: ranked_memref_kxk_f32\n",
        "):\n",
        "    for i in range(0, F):\n",
        "        for j in range(0, F):\n",
        "            l = lambda l: l * D\n",
        "            r = lambda r: (r + 1) * D\n",
        "            a, b, c = (\n",
        "                A[l(i) : r(i), l(j) : r(j)],\n",
        "                B[l(i) : r(i), l(j) : r(j)],\n",
        "                C[l(i) : r(i), l(j) : r(j)],\n",
        "            )\n",
        "            tile(a, b, c)\n"
      ],
      "metadata": {
        "id": "amh_lbcZQzj6"
      },
      "execution_count": null,
      "outputs": []
    },
    {
      "cell_type": "markdown",
      "source": [
        "## `func`, `memref`, `scf`, and `arith` dialects"
      ],
      "metadata": {
        "id": "yeplm5V6RoHC"
      }
    },
    {
      "cell_type": "code",
      "source": [
        "tiled_memfoo.emit()\n",
        "module = run_pipeline(ctx.module, str(Pipeline().cse()))\n",
        "print(module)"
      ],
      "metadata": {
        "colab": {
          "base_uri": "https://localhost:8080/"
        },
        "id": "fkR6mN8ZRb6i",
        "outputId": "3597d048-f24e-4cc5-b332-ad79f0e7bd18"
      },
      "execution_count": null,
      "outputs": [
        {
          "output_type": "stream",
          "name": "stdout",
          "text": [
            "module {\n",
            "  func.func @tiled_memfoo(%arg0: memref<256x256xf32>, %arg1: memref<256x256xf32>, %arg2: memref<256x256xf32>) {\n",
            "    %c0 = arith.constant 0 : index\n",
            "    %c8 = arith.constant 8 : index\n",
            "    %c1 = arith.constant 1 : index\n",
            "    scf.for %arg3 = %c0 to %c8 step %c1 {\n",
            "      scf.for %arg4 = %c0 to %c8 step %c1 {\n",
            "        %c32 = arith.constant 32 : index\n",
            "        %0 = arith.muli %arg3, %c32 : index\n",
            "        %1 = arith.addi %arg3, %c1 : index\n",
            "        %2 = arith.muli %arg4, %c32 : index\n",
            "        %3 = arith.addi %arg4, %c1 : index\n",
            "        %subview = memref.subview %arg0[%0, %2] [32, 32] [1, 1] : memref<256x256xf32> to memref<32x32xf32, strided<[256, 1], offset: ?>>\n",
            "        %subview_0 = memref.subview %arg1[%0, %2] [32, 32] [1, 1] : memref<256x256xf32> to memref<32x32xf32, strided<[256, 1], offset: ?>>\n",
            "        %subview_1 = memref.subview %arg2[%0, %2] [32, 32] [1, 1] : memref<256x256xf32> to memref<32x32xf32, strided<[256, 1], offset: ?>>\n",
            "        func.call @tile(%subview, %subview_0, %subview_1) : (memref<32x32xf32, strided<[256, 1], offset: ?>>, memref<32x32xf32, strided<[256, 1], offset: ?>>, memref<32x32xf32, strided<[256, 1], offset: ?>>) -> ()\n",
            "      }\n",
            "    }\n",
            "    return\n",
            "  }\n",
            "  func.func @tile(%arg0: memref<32x32xf32, strided<[256, 1], offset: ?>>, %arg1: memref<32x32xf32, strided<[256, 1], offset: ?>>, %arg2: memref<32x32xf32, strided<[256, 1], offset: ?>>) {\n",
            "    %c0 = arith.constant 0 : index\n",
            "    %c32 = arith.constant 32 : index\n",
            "    %c1 = arith.constant 1 : index\n",
            "    scf.for %arg3 = %c0 to %c32 step %c1 {\n",
            "      scf.for %arg4 = %c0 to %c32 step %c1 {\n",
            "        %0 = memref.load %arg0[%arg3, %arg4] : memref<32x32xf32, strided<[256, 1], offset: ?>>\n",
            "        %1 = memref.load %arg1[%arg3, %arg4] : memref<32x32xf32, strided<[256, 1], offset: ?>>\n",
            "        %2 = arith.addf %0, %1 : f32\n",
            "        memref.store %2, %arg2[%arg3, %arg4] : memref<32x32xf32, strided<[256, 1], offset: ?>>\n",
            "      }\n",
            "    }\n",
            "    return\n",
            "  }\n",
            "}\n",
            "\n"
          ]
        }
      ]
    },
    {
      "cell_type": "markdown",
      "source": [
        "## Run"
      ],
      "metadata": {
        "id": "6ObNEVeTR0dF"
      }
    },
    {
      "cell_type": "code",
      "source": [
        "module = backend.compile(\n",
        "    module,\n",
        "    kernel_name=tiled_memfoo.__name__,\n",
        "    pipeline=Pipeline().bufferize().lower_to_llvm(),\n",
        ")\n",
        "\n",
        "A = np.random.randint(0, 10, (K, K)).astype(np.float32)\n",
        "B = np.random.randint(0, 10, (K, K)).astype(np.float32)\n",
        "C = np.zeros((K, K)).astype(np.float32)\n",
        "\n",
        "backend.load(module).tiled_memfoo(A, B, C)"
      ],
      "metadata": {
        "id": "OahzCa2yR3AX"
      },
      "execution_count": null,
      "outputs": []
    },
    {
      "cell_type": "markdown",
      "source": [
        "## Check your results"
      ],
      "metadata": {
        "id": "374nuYgWTSJL"
      }
    },
    {
      "cell_type": "code",
      "source": [
        "print(C)\n",
        "assert np.array_equal(A + B, C)"
      ],
      "metadata": {
        "colab": {
          "base_uri": "https://localhost:8080/"
        },
        "id": "2biEtkdFTT_H",
        "outputId": "47ba52c0-3d62-4319-a6b0-f23f3fd468e0"
      },
      "execution_count": null,
      "outputs": [
        {
          "output_type": "stream",
          "name": "stdout",
          "text": [
            "[[ 0.  3. 14. ...  7.  6.  0.]\n",
            " [ 9.  9.  8. ... 15.  9. 13.]\n",
            " [ 9.  5.  1. ... 10.  6.  8.]\n",
            " ...\n",
            " [ 2. 17.  9. ...  8.  9. 17.]\n",
            " [10.  3.  7. ...  5. 10.  8.]\n",
            " [15. 11. 10. ... 11.  8.  9.]]\n"
          ]
        }
      ]
    },
    {
      "cell_type": "markdown",
      "source": [
        "## Clean up after yourself"
      ],
      "metadata": {
        "id": "dkK6RuhUUfi6"
      }
    },
    {
      "cell_type": "code",
      "source": [
        "ctx_man.__exit__(None, None, None);"
      ],
      "metadata": {
        "id": "zXH2qabvUhOR"
      },
      "execution_count": null,
      "outputs": []
    },
    {
      "cell_type": "markdown",
      "source": [
        "# Do it like the professionals"
      ],
      "metadata": {
        "id": "UfdO_xJDTzh-"
      }
    },
    {
      "cell_type": "code",
      "source": [
        "ctx_man = mlir_mod_ctx()\n",
        "ctx = ctx_man.__enter__()\n",
        "\n",
        "ranked_memref_kxk_f32 = T.memref(K, K, T.f32)\n",
        "ranked_memref_dxd_f32 = T.memref(D, D, T.f32, layout=((K, 1), S))\n",
        "\n",
        "from mlir_utils.dialects import linalg\n",
        "\n",
        "@func\n",
        "@canonicalize(using=scf)\n",
        "def linalg_memfoo(\n",
        "    A: ranked_memref_kxk_f32, B: ranked_memref_kxk_f32, C: ranked_memref_kxk_f32\n",
        "):\n",
        "    for i in range(0, F):\n",
        "        for j in range(0, F):\n",
        "            l = lambda l: l * D\n",
        "            r = lambda r: (r + 1) * D\n",
        "            a, b, c = (\n",
        "                A[l(i) : r(i), l(j) : r(j)],\n",
        "                B[l(i) : r(i), l(j) : r(j)],\n",
        "                C[l(i) : r(i), l(j) : r(j)],\n",
        "            )\n",
        "            linalg.add(a, b, c)\n",
        "\n",
        "linalg_memfoo.emit()\n",
        "module = run_pipeline(ctx.module, str(Pipeline().cse()))\n",
        "print(module)"
      ],
      "metadata": {
        "colab": {
          "base_uri": "https://localhost:8080/"
        },
        "id": "7Dwvs8CBT2T9",
        "outputId": "cfc10029-cd9d-45da-d043-a4ee726133ed"
      },
      "execution_count": null,
      "outputs": [
        {
          "output_type": "stream",
          "name": "stdout",
          "text": [
            "module {\n",
            "  func.func @linalg_memfoo(%arg0: memref<256x256xf32>, %arg1: memref<256x256xf32>, %arg2: memref<256x256xf32>) {\n",
            "    %c0 = arith.constant 0 : index\n",
            "    %c8 = arith.constant 8 : index\n",
            "    %c1 = arith.constant 1 : index\n",
            "    scf.for %arg3 = %c0 to %c8 step %c1 {\n",
            "      scf.for %arg4 = %c0 to %c8 step %c1 {\n",
            "        %c32 = arith.constant 32 : index\n",
            "        %0 = arith.muli %arg3, %c32 : index\n",
            "        %1 = arith.addi %arg3, %c1 : index\n",
            "        %2 = arith.muli %arg4, %c32 : index\n",
            "        %3 = arith.addi %arg4, %c1 : index\n",
            "        %subview = memref.subview %arg0[%0, %2] [32, 32] [1, 1] : memref<256x256xf32> to memref<32x32xf32, strided<[256, 1], offset: ?>>\n",
            "        %subview_0 = memref.subview %arg1[%0, %2] [32, 32] [1, 1] : memref<256x256xf32> to memref<32x32xf32, strided<[256, 1], offset: ?>>\n",
            "        %subview_1 = memref.subview %arg2[%0, %2] [32, 32] [1, 1] : memref<256x256xf32> to memref<32x32xf32, strided<[256, 1], offset: ?>>\n",
            "        linalg.add ins(%subview, %subview_0 : memref<32x32xf32, strided<[256, 1], offset: ?>>, memref<32x32xf32, strided<[256, 1], offset: ?>>) outs(%subview_1 : memref<32x32xf32, strided<[256, 1], offset: ?>>)\n",
            "      }\n",
            "    }\n",
            "    return\n",
            "  }\n",
            "}\n",
            "\n"
          ]
        }
      ]
    },
    {
      "cell_type": "markdown",
      "source": [
        "## Run"
      ],
      "metadata": {
        "id": "AdUDJvlMVHNk"
      }
    },
    {
      "cell_type": "code",
      "source": [
        "module = backend.compile(\n",
        "    module,\n",
        "    kernel_name=linalg_memfoo.__name__,\n",
        "    pipeline=Pipeline().convert_linalg_to_loops().bufferize().lower_to_llvm()\n",
        ")\n",
        "invoker = backend.load(module)\n",
        "A = np.random.randint(0, 10, (K, K)).astype(np.float32)\n",
        "B = np.random.randint(0, 10, (K, K)).astype(np.float32)\n",
        "C = np.zeros((K, K)).astype(np.float32)\n",
        "\n",
        "backend.load(module).linalg_memfoo(A, B, C)"
      ],
      "metadata": {
        "id": "_2DLkkQXVD_6"
      },
      "execution_count": null,
      "outputs": []
    },
    {
      "cell_type": "markdown",
      "source": [
        "## Check your results"
      ],
      "metadata": {
        "id": "hupr7s5LVVpQ"
      }
    },
    {
      "cell_type": "code",
      "source": [
        "print(C)\n",
        "assert np.array_equal(A + B, C)"
      ],
      "metadata": {
        "colab": {
          "base_uri": "https://localhost:8080/"
        },
        "id": "-22vHoGXVXfm",
        "outputId": "838de41e-8670-45bf-8ee7-65d6e9b8eb1a"
      },
      "execution_count": null,
      "outputs": [
        {
          "output_type": "stream",
          "name": "stdout",
          "text": [
            "[[ 6.  4.  8. ...  7. 12.  3.]\n",
            " [10.  7.  8. ... 10. 11. 12.]\n",
            " [ 7.  7. 10. ...  6.  6. 11.]\n",
            " ...\n",
            " [ 4. 10.  7. ...  5.  5. 12.]\n",
            " [ 8. 12. 13. ... 15.  6. 18.]\n",
            " [ 9. 13. 12. ... 12. 12. 10.]]\n"
          ]
        }
      ]
    },
    {
      "cell_type": "markdown",
      "source": [
        "## Clean up after yourself"
      ],
      "metadata": {
        "id": "IZKkHZb2PKIB"
      }
    },
    {
      "cell_type": "code",
      "source": [
        "ctx_man.__exit__(None, None, None);"
      ],
      "metadata": {
        "id": "XUvvimM-PHPq"
      },
      "execution_count": null,
      "outputs": []
    }
  ]
}